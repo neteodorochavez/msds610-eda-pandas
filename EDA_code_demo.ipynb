{
 "cells": [
  {
   "cell_type": "code",
   "execution_count": 1,
   "id": "14c52d47",
   "metadata": {},
   "outputs": [],
   "source": [
    "import pandas as pd\n",
    "import numpy as np\n",
    "from matplotlib import pyplot as plt\n",
    "%config InlineBackend.figure_format = 'retina'"
   ]
  },
  {
   "cell_type": "markdown",
   "id": "91093db9",
   "metadata": {},
   "source": [
    "# Conversion to DataFrame"
   ]
  },
  {
   "cell_type": "code",
   "execution_count": 5,
   "id": "b604bd73",
   "metadata": {},
   "outputs": [
    {
     "data": {
      "text/html": [
       "<div>\n",
       "<style scoped>\n",
       "    .dataframe tbody tr th:only-of-type {\n",
       "        vertical-align: middle;\n",
       "    }\n",
       "\n",
       "    .dataframe tbody tr th {\n",
       "        vertical-align: top;\n",
       "    }\n",
       "\n",
       "    .dataframe thead th {\n",
       "        text-align: right;\n",
       "    }\n",
       "</style>\n",
       "<table border=\"1\" class=\"dataframe\">\n",
       "  <thead>\n",
       "    <tr style=\"text-align: right;\">\n",
       "      <th></th>\n",
       "      <th>name</th>\n",
       "      <th>email</th>\n",
       "      <th>grade</th>\n",
       "      <th>age</th>\n",
       "    </tr>\n",
       "  </thead>\n",
       "  <tbody>\n",
       "    <tr>\n",
       "      <th>0</th>\n",
       "      <td>John</td>\n",
       "      <td>john@mail.com</td>\n",
       "      <td>A</td>\n",
       "      <td>16</td>\n",
       "    </tr>\n",
       "    <tr>\n",
       "      <th>1</th>\n",
       "      <td>Alice</td>\n",
       "      <td>alice@mail.com</td>\n",
       "      <td>B</td>\n",
       "      <td>17</td>\n",
       "    </tr>\n",
       "    <tr>\n",
       "      <th>2</th>\n",
       "      <td>Bob</td>\n",
       "      <td>bob@mail.com</td>\n",
       "      <td>C</td>\n",
       "      <td>16</td>\n",
       "    </tr>\n",
       "    <tr>\n",
       "      <th>3</th>\n",
       "      <td>Hannah</td>\n",
       "      <td>hannah@mail.com</td>\n",
       "      <td>A</td>\n",
       "      <td>17</td>\n",
       "    </tr>\n",
       "  </tbody>\n",
       "</table>\n",
       "</div>"
      ],
      "text/plain": [
       "     name            email grade  age\n",
       "0    John    john@mail.com     A   16\n",
       "1   Alice   alice@mail.com     B   17\n",
       "2     Bob     bob@mail.com     C   16\n",
       "3  Hannah  hannah@mail.com     A   17"
      ]
     },
     "execution_count": 5,
     "metadata": {},
     "output_type": "execute_result"
    }
   ],
   "source": [
    "# xml\n",
    "students_df = pd.read_xml('/Users/nestor/Documents/Fall Module 1/Communications for Analytics/msds610-eda-pandas/students.xml')\n",
    "students_df.head()"
   ]
  },
  {
   "cell_type": "code",
   "execution_count": 6,
   "id": "c4dfbf1c",
   "metadata": {},
   "outputs": [
    {
     "data": {
      "text/html": [
       "<div>\n",
       "<style scoped>\n",
       "    .dataframe tbody tr th:only-of-type {\n",
       "        vertical-align: middle;\n",
       "    }\n",
       "\n",
       "    .dataframe tbody tr th {\n",
       "        vertical-align: top;\n",
       "    }\n",
       "\n",
       "    .dataframe thead th {\n",
       "        text-align: right;\n",
       "    }\n",
       "</style>\n",
       "<table border=\"1\" class=\"dataframe\">\n",
       "  <thead>\n",
       "    <tr style=\"text-align: right;\">\n",
       "      <th></th>\n",
       "      <th>id</th>\n",
       "      <th>name</th>\n",
       "      <th>math</th>\n",
       "      <th>physics</th>\n",
       "      <th>chemistry</th>\n",
       "    </tr>\n",
       "  </thead>\n",
       "  <tbody>\n",
       "    <tr>\n",
       "      <th>0</th>\n",
       "      <td>A001</td>\n",
       "      <td>Tom</td>\n",
       "      <td>60</td>\n",
       "      <td>66</td>\n",
       "      <td>61</td>\n",
       "    </tr>\n",
       "    <tr>\n",
       "      <th>1</th>\n",
       "      <td>A002</td>\n",
       "      <td>James</td>\n",
       "      <td>89</td>\n",
       "      <td>76</td>\n",
       "      <td>51</td>\n",
       "    </tr>\n",
       "    <tr>\n",
       "      <th>2</th>\n",
       "      <td>A003</td>\n",
       "      <td>Jenny</td>\n",
       "      <td>79</td>\n",
       "      <td>90</td>\n",
       "      <td>78</td>\n",
       "    </tr>\n",
       "  </tbody>\n",
       "</table>\n",
       "</div>"
      ],
      "text/plain": [
       "     id   name  math  physics  chemistry\n",
       "0  A001    Tom    60       66         61\n",
       "1  A002  James    89       76         51\n",
       "2  A003  Jenny    79       90         78"
      ]
     },
     "execution_count": 6,
     "metadata": {},
     "output_type": "execute_result"
    }
   ],
   "source": [
    "# json\n",
    "subjects_df = pd.read_json('/Users/nestor/Documents/Fall Module 1/Communications for Analytics/msds610-eda-pandas/students.json')\n",
    "subjects_df.head()"
   ]
  },
  {
   "cell_type": "code",
   "execution_count": null,
   "id": "f6795d21",
   "metadata": {
    "scrolled": true
   },
   "outputs": [],
   "source": [
    "# html\n",
    "table_MN = pd.read_html('https://en.wikipedia.org/wiki/Minnesota', match='Election results from statewide races')[0]\n",
    "table_MN.head()"
   ]
  },
  {
   "cell_type": "code",
   "execution_count": null,
   "id": "f2e527d5",
   "metadata": {
    "scrolled": true
   },
   "outputs": [],
   "source": [
    "# csv\n",
    "diamonds_df = pd.read_csv('/Users/martiheit/data/diamonds.csv')\n",
    "diamonds_df.head()"
   ]
  },
  {
   "cell_type": "markdown",
   "id": "ad660fcf",
   "metadata": {},
   "source": [
    "# Exploration"
   ]
  },
  {
   "cell_type": "code",
   "execution_count": 44,
   "id": "a384fd2b",
   "metadata": {},
   "outputs": [
    {
     "data": {
      "text/html": [
       "<div>\n",
       "<style scoped>\n",
       "    .dataframe tbody tr th:only-of-type {\n",
       "        vertical-align: middle;\n",
       "    }\n",
       "\n",
       "    .dataframe tbody tr th {\n",
       "        vertical-align: top;\n",
       "    }\n",
       "\n",
       "    .dataframe thead th {\n",
       "        text-align: right;\n",
       "    }\n",
       "</style>\n",
       "<table border=\"1\" class=\"dataframe\">\n",
       "  <thead>\n",
       "    <tr style=\"text-align: right;\">\n",
       "      <th></th>\n",
       "      <th>id</th>\n",
       "      <th>name</th>\n",
       "      <th>age</th>\n",
       "      <th>previous_job</th>\n",
       "      <th>birthday</th>\n",
       "      <th>acct_balance</th>\n",
       "    </tr>\n",
       "  </thead>\n",
       "  <tbody>\n",
       "    <tr>\n",
       "      <th>0</th>\n",
       "      <td>1</td>\n",
       "      <td>Marti</td>\n",
       "      <td>21</td>\n",
       "      <td>NaN</td>\n",
       "      <td>05-12-2000</td>\n",
       "      <td>0</td>\n",
       "    </tr>\n",
       "    <tr>\n",
       "      <th>1</th>\n",
       "      <td>2</td>\n",
       "      <td>Joleena</td>\n",
       "      <td>22</td>\n",
       "      <td>Engineer</td>\n",
       "      <td>05-12-1999</td>\n",
       "      <td>120000</td>\n",
       "    </tr>\n",
       "    <tr>\n",
       "      <th>2</th>\n",
       "      <td>3</td>\n",
       "      <td>Nestor</td>\n",
       "      <td>23</td>\n",
       "      <td>Teacher</td>\n",
       "      <td>03-22-1998</td>\n",
       "      <td>40000</td>\n",
       "    </tr>\n",
       "    <tr>\n",
       "      <th>3</th>\n",
       "      <td>4</td>\n",
       "      <td>Faye</td>\n",
       "      <td>24</td>\n",
       "      <td>Engineer</td>\n",
       "      <td>01-01-1997</td>\n",
       "      <td>140000</td>\n",
       "    </tr>\n",
       "  </tbody>\n",
       "</table>\n",
       "</div>"
      ],
      "text/plain": [
       "   id     name  age previous_job    birthday acct_balance\n",
       "0   1    Marti   21          NaN  05-12-2000            0\n",
       "1   2  Joleena   22     Engineer  05-12-1999       120000\n",
       "2   3   Nestor   23      Teacher  03-22-1998        40000\n",
       "3   4     Faye   24     Engineer  01-01-1997       140000"
      ]
     },
     "execution_count": 44,
     "metadata": {},
     "output_type": "execute_result"
    }
   ],
   "source": [
    "student_info = {\n",
    "    'id': [1, 2, 3, 4],\n",
    "    'name': ['Marti', 'Joleena', 'Nestor', 'Faye'],\n",
    "    'age': [21, 22, 23, 24],\n",
    "    'previous_job': [np.nan, 'Engineer', 'Teacher', 'Engineer'],\n",
    "    'birthday': ['05-12-2000', '05-12-1999', '03-22-1998', '01-01-1997'],\n",
    "    'acct_balance': ['0', '120000', '40000', '140000']\n",
    "}\n",
    "df_student = pd.DataFrame.from_dict(student_info)\n",
    "df_student.head()"
   ]
  },
  {
   "cell_type": "code",
   "execution_count": 31,
   "id": "32092471",
   "metadata": {},
   "outputs": [
    {
     "data": {
      "text/plain": [
       "(4, 6)"
      ]
     },
     "execution_count": 31,
     "metadata": {},
     "output_type": "execute_result"
    }
   ],
   "source": [
    "df_student.shape"
   ]
  },
  {
   "cell_type": "code",
   "execution_count": 32,
   "id": "17945fe3",
   "metadata": {},
   "outputs": [
    {
     "data": {
      "text/plain": [
       "Index(['id', 'name', 'age', 'previous_job', 'birthday', 'acct_balance'], dtype='object')"
      ]
     },
     "execution_count": 32,
     "metadata": {},
     "output_type": "execute_result"
    }
   ],
   "source": [
    "df_student.columns"
   ]
  },
  {
   "cell_type": "code",
   "execution_count": 33,
   "id": "bf818af6",
   "metadata": {},
   "outputs": [
    {
     "name": "stdout",
     "output_type": "stream",
     "text": [
      "<class 'pandas.core.frame.DataFrame'>\n",
      "RangeIndex: 4 entries, 0 to 3\n",
      "Data columns (total 6 columns):\n",
      " #   Column        Non-Null Count  Dtype \n",
      "---  ------        --------------  ----- \n",
      " 0   id            4 non-null      int64 \n",
      " 1   name          4 non-null      object\n",
      " 2   age           4 non-null      int64 \n",
      " 3   previous_job  3 non-null      object\n",
      " 4   birthday      4 non-null      object\n",
      " 5   acct_balance  4 non-null      object\n",
      "dtypes: int64(2), object(4)\n",
      "memory usage: 320.0+ bytes\n"
     ]
    }
   ],
   "source": [
    "df_student.info()"
   ]
  },
  {
   "cell_type": "code",
   "execution_count": 34,
   "id": "ae63f50d",
   "metadata": {},
   "outputs": [
    {
     "data": {
      "text/html": [
       "<div>\n",
       "<style scoped>\n",
       "    .dataframe tbody tr th:only-of-type {\n",
       "        vertical-align: middle;\n",
       "    }\n",
       "\n",
       "    .dataframe tbody tr th {\n",
       "        vertical-align: top;\n",
       "    }\n",
       "\n",
       "    .dataframe thead th {\n",
       "        text-align: right;\n",
       "    }\n",
       "</style>\n",
       "<table border=\"1\" class=\"dataframe\">\n",
       "  <thead>\n",
       "    <tr style=\"text-align: right;\">\n",
       "      <th></th>\n",
       "      <th>id</th>\n",
       "      <th>name</th>\n",
       "      <th>age</th>\n",
       "      <th>previous_job</th>\n",
       "      <th>birthday</th>\n",
       "      <th>acct_balance</th>\n",
       "    </tr>\n",
       "  </thead>\n",
       "  <tbody>\n",
       "    <tr>\n",
       "      <th>0</th>\n",
       "      <td>False</td>\n",
       "      <td>False</td>\n",
       "      <td>False</td>\n",
       "      <td>True</td>\n",
       "      <td>False</td>\n",
       "      <td>False</td>\n",
       "    </tr>\n",
       "    <tr>\n",
       "      <th>1</th>\n",
       "      <td>False</td>\n",
       "      <td>False</td>\n",
       "      <td>False</td>\n",
       "      <td>False</td>\n",
       "      <td>False</td>\n",
       "      <td>False</td>\n",
       "    </tr>\n",
       "    <tr>\n",
       "      <th>2</th>\n",
       "      <td>False</td>\n",
       "      <td>False</td>\n",
       "      <td>False</td>\n",
       "      <td>False</td>\n",
       "      <td>False</td>\n",
       "      <td>False</td>\n",
       "    </tr>\n",
       "    <tr>\n",
       "      <th>3</th>\n",
       "      <td>False</td>\n",
       "      <td>False</td>\n",
       "      <td>False</td>\n",
       "      <td>False</td>\n",
       "      <td>False</td>\n",
       "      <td>False</td>\n",
       "    </tr>\n",
       "  </tbody>\n",
       "</table>\n",
       "</div>"
      ],
      "text/plain": [
       "      id   name    age  previous_job  birthday  acct_balance\n",
       "0  False  False  False          True     False         False\n",
       "1  False  False  False         False     False         False\n",
       "2  False  False  False         False     False         False\n",
       "3  False  False  False         False     False         False"
      ]
     },
     "execution_count": 34,
     "metadata": {},
     "output_type": "execute_result"
    }
   ],
   "source": [
    "df_student.isnull()"
   ]
  },
  {
   "cell_type": "code",
   "execution_count": 35,
   "id": "90ccab4e",
   "metadata": {},
   "outputs": [
    {
     "data": {
      "text/html": [
       "<div>\n",
       "<style scoped>\n",
       "    .dataframe tbody tr th:only-of-type {\n",
       "        vertical-align: middle;\n",
       "    }\n",
       "\n",
       "    .dataframe tbody tr th {\n",
       "        vertical-align: top;\n",
       "    }\n",
       "\n",
       "    .dataframe thead th {\n",
       "        text-align: right;\n",
       "    }\n",
       "</style>\n",
       "<table border=\"1\" class=\"dataframe\">\n",
       "  <thead>\n",
       "    <tr style=\"text-align: right;\">\n",
       "      <th></th>\n",
       "      <th>id</th>\n",
       "      <th>age</th>\n",
       "    </tr>\n",
       "  </thead>\n",
       "  <tbody>\n",
       "    <tr>\n",
       "      <th>count</th>\n",
       "      <td>4.000000</td>\n",
       "      <td>4.000000</td>\n",
       "    </tr>\n",
       "    <tr>\n",
       "      <th>mean</th>\n",
       "      <td>2.500000</td>\n",
       "      <td>22.500000</td>\n",
       "    </tr>\n",
       "    <tr>\n",
       "      <th>std</th>\n",
       "      <td>1.290994</td>\n",
       "      <td>1.290994</td>\n",
       "    </tr>\n",
       "    <tr>\n",
       "      <th>min</th>\n",
       "      <td>1.000000</td>\n",
       "      <td>21.000000</td>\n",
       "    </tr>\n",
       "    <tr>\n",
       "      <th>25%</th>\n",
       "      <td>1.750000</td>\n",
       "      <td>21.750000</td>\n",
       "    </tr>\n",
       "    <tr>\n",
       "      <th>50%</th>\n",
       "      <td>2.500000</td>\n",
       "      <td>22.500000</td>\n",
       "    </tr>\n",
       "    <tr>\n",
       "      <th>75%</th>\n",
       "      <td>3.250000</td>\n",
       "      <td>23.250000</td>\n",
       "    </tr>\n",
       "    <tr>\n",
       "      <th>max</th>\n",
       "      <td>4.000000</td>\n",
       "      <td>24.000000</td>\n",
       "    </tr>\n",
       "  </tbody>\n",
       "</table>\n",
       "</div>"
      ],
      "text/plain": [
       "             id        age\n",
       "count  4.000000   4.000000\n",
       "mean   2.500000  22.500000\n",
       "std    1.290994   1.290994\n",
       "min    1.000000  21.000000\n",
       "25%    1.750000  21.750000\n",
       "50%    2.500000  22.500000\n",
       "75%    3.250000  23.250000\n",
       "max    4.000000  24.000000"
      ]
     },
     "execution_count": 35,
     "metadata": {},
     "output_type": "execute_result"
    }
   ],
   "source": [
    "df_student.describe()"
   ]
  },
  {
   "cell_type": "code",
   "execution_count": 36,
   "id": "641af3fc",
   "metadata": {},
   "outputs": [
    {
     "data": {
      "text/plain": [
       "Engineer    2\n",
       "Teacher     1\n",
       "Name: previous_job, dtype: int64"
      ]
     },
     "execution_count": 36,
     "metadata": {},
     "output_type": "execute_result"
    }
   ],
   "source": [
    "df_student['previous_job'].value_counts()"
   ]
  },
  {
   "cell_type": "markdown",
   "id": "970e5853",
   "metadata": {},
   "source": [
    "# Preprocessing"
   ]
  },
  {
   "cell_type": "markdown",
   "id": "cfe11456",
   "metadata": {},
   "source": [
    "## Converting Data Types"
   ]
  },
  {
   "cell_type": "code",
   "execution_count": 45,
   "id": "e3a54393",
   "metadata": {},
   "outputs": [
    {
     "data": {
      "text/plain": [
       "id               int64\n",
       "name            object\n",
       "age              int64\n",
       "previous_job    object\n",
       "birthday        object\n",
       "acct_balance    object\n",
       "dtype: object"
      ]
     },
     "execution_count": 45,
     "metadata": {},
     "output_type": "execute_result"
    }
   ],
   "source": [
    "df_student.dtypes"
   ]
  },
  {
   "cell_type": "code",
   "execution_count": 46,
   "id": "b865ce27",
   "metadata": {},
   "outputs": [
    {
     "data": {
      "text/plain": [
       "count     4\n",
       "unique    4\n",
       "top       0\n",
       "freq      1\n",
       "Name: acct_balance, dtype: object"
      ]
     },
     "execution_count": 46,
     "metadata": {},
     "output_type": "execute_result"
    }
   ],
   "source": [
    "df_student['acct_balance'].describe()"
   ]
  },
  {
   "cell_type": "code",
   "execution_count": 47,
   "id": "7d590d61",
   "metadata": {},
   "outputs": [
    {
     "data": {
      "text/plain": [
       "id                       int64\n",
       "name                    object\n",
       "age                      int64\n",
       "previous_job            object\n",
       "birthday        datetime64[ns]\n",
       "acct_balance             int64\n",
       "dtype: object"
      ]
     },
     "execution_count": 47,
     "metadata": {},
     "output_type": "execute_result"
    }
   ],
   "source": [
    "df_student['birthday'] = pd.to_datetime(df_student['birthday'])\n",
    "df_student['acct_balance'] = pd.to_numeric(df_student['acct_balance'])\n",
    "df_student.dtypes"
   ]
  },
  {
   "cell_type": "code",
   "execution_count": 48,
   "id": "09fa201c",
   "metadata": {},
   "outputs": [],
   "source": [
    "df_student['previous_job'] = df_student['previous_job'].fillna('Student')"
   ]
  },
  {
   "cell_type": "code",
   "execution_count": 29,
   "id": "fb034b6c",
   "metadata": {
    "scrolled": false
   },
   "outputs": [
    {
     "data": {
      "text/html": [
       "<div>\n",
       "<style scoped>\n",
       "    .dataframe tbody tr th:only-of-type {\n",
       "        vertical-align: middle;\n",
       "    }\n",
       "\n",
       "    .dataframe tbody tr th {\n",
       "        vertical-align: top;\n",
       "    }\n",
       "\n",
       "    .dataframe thead th {\n",
       "        text-align: right;\n",
       "    }\n",
       "</style>\n",
       "<table border=\"1\" class=\"dataframe\">\n",
       "  <thead>\n",
       "    <tr style=\"text-align: right;\">\n",
       "      <th></th>\n",
       "      <th>id</th>\n",
       "      <th>name</th>\n",
       "      <th>age</th>\n",
       "      <th>previous_job</th>\n",
       "      <th>birthday</th>\n",
       "      <th>acct_balance</th>\n",
       "    </tr>\n",
       "  </thead>\n",
       "  <tbody>\n",
       "    <tr>\n",
       "      <th>0</th>\n",
       "      <td>1</td>\n",
       "      <td>Marti</td>\n",
       "      <td>21</td>\n",
       "      <td>Student</td>\n",
       "      <td>2000-05-12</td>\n",
       "      <td>0</td>\n",
       "    </tr>\n",
       "    <tr>\n",
       "      <th>1</th>\n",
       "      <td>2</td>\n",
       "      <td>Joleena</td>\n",
       "      <td>22</td>\n",
       "      <td>Engineer</td>\n",
       "      <td>1999-05-12</td>\n",
       "      <td>120000</td>\n",
       "    </tr>\n",
       "    <tr>\n",
       "      <th>2</th>\n",
       "      <td>3</td>\n",
       "      <td>Nestor</td>\n",
       "      <td>23</td>\n",
       "      <td>Teacher</td>\n",
       "      <td>1998-03-22</td>\n",
       "      <td>40000</td>\n",
       "    </tr>\n",
       "    <tr>\n",
       "      <th>3</th>\n",
       "      <td>4</td>\n",
       "      <td>Faye</td>\n",
       "      <td>24</td>\n",
       "      <td>Engineer</td>\n",
       "      <td>1997-01-01</td>\n",
       "      <td>140000</td>\n",
       "    </tr>\n",
       "  </tbody>\n",
       "</table>\n",
       "</div>"
      ],
      "text/plain": [
       "   id     name  age previous_job   birthday  acct_balance\n",
       "0   1    Marti   21      Student 2000-05-12             0\n",
       "1   2  Joleena   22     Engineer 1999-05-12        120000\n",
       "2   3   Nestor   23      Teacher 1998-03-22         40000\n",
       "3   4     Faye   24     Engineer 1997-01-01        140000"
      ]
     },
     "execution_count": 29,
     "metadata": {},
     "output_type": "execute_result"
    }
   ],
   "source": [
    "df_student"
   ]
  },
  {
   "cell_type": "markdown",
   "id": "e82eeaae",
   "metadata": {},
   "source": [
    "## Appending Data"
   ]
  },
  {
   "cell_type": "code",
   "execution_count": null,
   "id": "5d93e33f",
   "metadata": {},
   "outputs": [],
   "source": [
    "df_student['gender'] = ['F', 'F', 'M', 'F']\n",
    "df_student"
   ]
  },
  {
   "cell_type": "markdown",
   "id": "c7bc7bf8",
   "metadata": {},
   "source": [
    "## Removing/Reindex Data"
   ]
  },
  {
   "cell_type": "code",
   "execution_count": null,
   "id": "e5621b82",
   "metadata": {},
   "outputs": [],
   "source": [
    "df_student = df_student.drop('id', axis=1)\n",
    "df_age_index = df_student.set_index('age')"
   ]
  },
  {
   "cell_type": "code",
   "execution_count": null,
   "id": "e9af7ada",
   "metadata": {},
   "outputs": [],
   "source": [
    "df_age_index.head()"
   ]
  },
  {
   "cell_type": "markdown",
   "id": "b0382d72",
   "metadata": {},
   "source": [
    "# Visualize"
   ]
  },
  {
   "cell_type": "code",
   "execution_count": null,
   "id": "cbbf1b59",
   "metadata": {},
   "outputs": [],
   "source": [
    "fig, ax = plt.subplots(figsize=(6, 6))\n",
    "ax.scatter(df_student['age'], df_student['acct_balance'])\n",
    "ax.spines['right'].set_visible(False)\n",
    "ax.spines['top'].set_visible(False)\n",
    "ax.set_xlabel('Age')\n",
    "ax.set_ylabel('Account Balance')\n",
    "plt.title('Age vs Account Balance')\n",
    "plt.show()"
   ]
  },
  {
   "cell_type": "code",
   "execution_count": null,
   "id": "5c08057e",
   "metadata": {},
   "outputs": [],
   "source": [
    "x = df_student['previous_job'].value_counts().index\n",
    "y = df_student['previous_job'].value_counts().values\n",
    "\n",
    "fig, ax = plt.subplots(figsize=(6, 6))\n",
    "ax.bar(x, y)\n",
    "plt.title('Previous Job Frequency')\n",
    "ax.spines['right'].set_visible(False)\n",
    "ax.spines['top'].set_visible(False)\n",
    "ax.set_xlabel('Previous Job')\n",
    "ax.set_ylabel('Count')\n",
    "plt.show()\n"
   ]
  }
 ],
 "metadata": {
  "kernelspec": {
   "display_name": "Python 3 (ipykernel)",
   "language": "python",
   "name": "python3"
  },
  "language_info": {
   "codemirror_mode": {
    "name": "ipython",
    "version": 3
   },
   "file_extension": ".py",
   "mimetype": "text/x-python",
   "name": "python",
   "nbconvert_exporter": "python",
   "pygments_lexer": "ipython3",
   "version": "3.8.8"
  }
 },
 "nbformat": 4,
 "nbformat_minor": 5
}
