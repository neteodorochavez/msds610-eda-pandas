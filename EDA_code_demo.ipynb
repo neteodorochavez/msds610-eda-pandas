{
 "cells": [
  {
   "cell_type": "code",
   "execution_count": 140,
   "id": "14c52d47",
   "metadata": {},
   "outputs": [],
   "source": [
    "import pandas as pd\n",
    "import numpy as np\n",
    "from matplotlib import pyplot as plt\n",
    "%config InlineBackend.figure_format = 'retina'"
   ]
  },
  {
   "cell_type": "markdown",
   "id": "91093db9",
   "metadata": {},
   "source": [
    "# Conversion to DataFrame"
   ]
  },
  {
   "cell_type": "code",
   "execution_count": 141,
   "id": "b604bd73",
   "metadata": {},
   "outputs": [
    {
     "data": {
      "text/html": [
       "<div>\n",
       "<style scoped>\n",
       "    .dataframe tbody tr th:only-of-type {\n",
       "        vertical-align: middle;\n",
       "    }\n",
       "\n",
       "    .dataframe tbody tr th {\n",
       "        vertical-align: top;\n",
       "    }\n",
       "\n",
       "    .dataframe thead th {\n",
       "        text-align: right;\n",
       "    }\n",
       "</style>\n",
       "<table border=\"1\" class=\"dataframe\">\n",
       "  <thead>\n",
       "    <tr style=\"text-align: right;\">\n",
       "      <th></th>\n",
       "      <th>name</th>\n",
       "      <th>email</th>\n",
       "      <th>grade</th>\n",
       "      <th>age</th>\n",
       "    </tr>\n",
       "  </thead>\n",
       "  <tbody>\n",
       "    <tr>\n",
       "      <th>0</th>\n",
       "      <td>John</td>\n",
       "      <td>john@mail.com</td>\n",
       "      <td>A</td>\n",
       "      <td>16</td>\n",
       "    </tr>\n",
       "    <tr>\n",
       "      <th>1</th>\n",
       "      <td>Alice</td>\n",
       "      <td>alice@mail.com</td>\n",
       "      <td>B</td>\n",
       "      <td>17</td>\n",
       "    </tr>\n",
       "    <tr>\n",
       "      <th>2</th>\n",
       "      <td>Bob</td>\n",
       "      <td>bob@mail.com</td>\n",
       "      <td>C</td>\n",
       "      <td>16</td>\n",
       "    </tr>\n",
       "    <tr>\n",
       "      <th>3</th>\n",
       "      <td>Hannah</td>\n",
       "      <td>hannah@mail.com</td>\n",
       "      <td>A</td>\n",
       "      <td>17</td>\n",
       "    </tr>\n",
       "  </tbody>\n",
       "</table>\n",
       "</div>"
      ],
      "text/plain": [
       "     name            email grade  age\n",
       "0    John    john@mail.com     A   16\n",
       "1   Alice   alice@mail.com     B   17\n",
       "2     Bob     bob@mail.com     C   16\n",
       "3  Hannah  hannah@mail.com     A   17"
      ]
     },
     "execution_count": 141,
     "metadata": {},
     "output_type": "execute_result"
    }
   ],
   "source": [
    "# xml\n",
    "students_df = pd.read_xml('/Users/martiheit/data/students.xml')\n",
    "students_df.head()"
   ]
  },
  {
   "cell_type": "code",
   "execution_count": 142,
   "id": "c4dfbf1c",
   "metadata": {},
   "outputs": [
    {
     "data": {
      "text/html": [
       "<div>\n",
       "<style scoped>\n",
       "    .dataframe tbody tr th:only-of-type {\n",
       "        vertical-align: middle;\n",
       "    }\n",
       "\n",
       "    .dataframe tbody tr th {\n",
       "        vertical-align: top;\n",
       "    }\n",
       "\n",
       "    .dataframe thead th {\n",
       "        text-align: right;\n",
       "    }\n",
       "</style>\n",
       "<table border=\"1\" class=\"dataframe\">\n",
       "  <thead>\n",
       "    <tr style=\"text-align: right;\">\n",
       "      <th></th>\n",
       "      <th>id</th>\n",
       "      <th>name</th>\n",
       "      <th>math</th>\n",
       "      <th>physics</th>\n",
       "      <th>chemistry</th>\n",
       "    </tr>\n",
       "  </thead>\n",
       "  <tbody>\n",
       "    <tr>\n",
       "      <th>0</th>\n",
       "      <td>A001</td>\n",
       "      <td>Tom</td>\n",
       "      <td>60</td>\n",
       "      <td>66</td>\n",
       "      <td>61</td>\n",
       "    </tr>\n",
       "    <tr>\n",
       "      <th>1</th>\n",
       "      <td>A002</td>\n",
       "      <td>James</td>\n",
       "      <td>89</td>\n",
       "      <td>76</td>\n",
       "      <td>51</td>\n",
       "    </tr>\n",
       "    <tr>\n",
       "      <th>2</th>\n",
       "      <td>A003</td>\n",
       "      <td>Jenny</td>\n",
       "      <td>79</td>\n",
       "      <td>90</td>\n",
       "      <td>78</td>\n",
       "    </tr>\n",
       "  </tbody>\n",
       "</table>\n",
       "</div>"
      ],
      "text/plain": [
       "     id   name  math  physics  chemistry\n",
       "0  A001    Tom    60       66         61\n",
       "1  A002  James    89       76         51\n",
       "2  A003  Jenny    79       90         78"
      ]
     },
     "execution_count": 142,
     "metadata": {},
     "output_type": "execute_result"
    }
   ],
   "source": [
    "# json\n",
    "subjects_df = pd.read_json('/Users/martiheit/data/students.json')\n",
    "subjects_df.head()"
   ]
  },
  {
   "cell_type": "code",
   "execution_count": 143,
   "id": "f6795d21",
   "metadata": {
    "scrolled": true
   },
   "outputs": [
    {
     "data": {
      "text/html": [
       "<div>\n",
       "<style scoped>\n",
       "    .dataframe tbody tr th:only-of-type {\n",
       "        vertical-align: middle;\n",
       "    }\n",
       "\n",
       "    .dataframe tbody tr th {\n",
       "        vertical-align: top;\n",
       "    }\n",
       "\n",
       "    .dataframe thead th {\n",
       "        text-align: right;\n",
       "    }\n",
       "</style>\n",
       "<table border=\"1\" class=\"dataframe\">\n",
       "  <thead>\n",
       "    <tr style=\"text-align: right;\">\n",
       "      <th></th>\n",
       "      <th>Year</th>\n",
       "      <th>Office</th>\n",
       "      <th>GOP</th>\n",
       "      <th>DFL</th>\n",
       "      <th>Others</th>\n",
       "    </tr>\n",
       "  </thead>\n",
       "  <tbody>\n",
       "    <tr>\n",
       "      <th>0</th>\n",
       "      <td>2020</td>\n",
       "      <td>President</td>\n",
       "      <td>45.3%</td>\n",
       "      <td>52.4%</td>\n",
       "      <td>2.3%</td>\n",
       "    </tr>\n",
       "    <tr>\n",
       "      <th>1</th>\n",
       "      <td>2020</td>\n",
       "      <td>Senator</td>\n",
       "      <td>43.5%</td>\n",
       "      <td>48.8%</td>\n",
       "      <td>7.7%</td>\n",
       "    </tr>\n",
       "    <tr>\n",
       "      <th>2</th>\n",
       "      <td>2018</td>\n",
       "      <td>Governor</td>\n",
       "      <td>42.4%</td>\n",
       "      <td>53.9%</td>\n",
       "      <td>3.7%</td>\n",
       "    </tr>\n",
       "    <tr>\n",
       "      <th>3</th>\n",
       "      <td>2018</td>\n",
       "      <td>Senator</td>\n",
       "      <td>36.2%</td>\n",
       "      <td>60.3%</td>\n",
       "      <td>3.4%</td>\n",
       "    </tr>\n",
       "    <tr>\n",
       "      <th>4</th>\n",
       "      <td>2018</td>\n",
       "      <td>Senator</td>\n",
       "      <td>42.4%</td>\n",
       "      <td>53.0%</td>\n",
       "      <td>4.6%</td>\n",
       "    </tr>\n",
       "  </tbody>\n",
       "</table>\n",
       "</div>"
      ],
      "text/plain": [
       "   Year     Office    GOP    DFL Others\n",
       "0  2020  President  45.3%  52.4%   2.3%\n",
       "1  2020    Senator  43.5%  48.8%   7.7%\n",
       "2  2018   Governor  42.4%  53.9%   3.7%\n",
       "3  2018    Senator  36.2%  60.3%   3.4%\n",
       "4  2018    Senator  42.4%  53.0%   4.6%"
      ]
     },
     "execution_count": 143,
     "metadata": {},
     "output_type": "execute_result"
    }
   ],
   "source": [
    "# html\n",
    "table_MN = pd.read_html('https://en.wikipedia.org/wiki/Minnesota', match='Election results from statewide races')[0]\n",
    "table_MN.head()"
   ]
  },
  {
   "cell_type": "code",
   "execution_count": 163,
   "id": "f2e527d5",
   "metadata": {
    "scrolled": true
   },
   "outputs": [
    {
     "data": {
      "text/html": [
       "<div>\n",
       "<style scoped>\n",
       "    .dataframe tbody tr th:only-of-type {\n",
       "        vertical-align: middle;\n",
       "    }\n",
       "\n",
       "    .dataframe tbody tr th {\n",
       "        vertical-align: top;\n",
       "    }\n",
       "\n",
       "    .dataframe thead th {\n",
       "        text-align: right;\n",
       "    }\n",
       "</style>\n",
       "<table border=\"1\" class=\"dataframe\">\n",
       "  <thead>\n",
       "    <tr style=\"text-align: right;\">\n",
       "      <th></th>\n",
       "      <th>Unnamed: 0</th>\n",
       "      <th>carat</th>\n",
       "      <th>cut</th>\n",
       "      <th>color</th>\n",
       "      <th>clarity</th>\n",
       "      <th>depth</th>\n",
       "      <th>table</th>\n",
       "      <th>price</th>\n",
       "      <th>x</th>\n",
       "      <th>y</th>\n",
       "      <th>z</th>\n",
       "    </tr>\n",
       "  </thead>\n",
       "  <tbody>\n",
       "    <tr>\n",
       "      <th>0</th>\n",
       "      <td>1</td>\n",
       "      <td>0.23</td>\n",
       "      <td>Ideal</td>\n",
       "      <td>E</td>\n",
       "      <td>SI2</td>\n",
       "      <td>61.5</td>\n",
       "      <td>55.0</td>\n",
       "      <td>326</td>\n",
       "      <td>3.95</td>\n",
       "      <td>3.98</td>\n",
       "      <td>2.43</td>\n",
       "    </tr>\n",
       "    <tr>\n",
       "      <th>1</th>\n",
       "      <td>2</td>\n",
       "      <td>0.21</td>\n",
       "      <td>Premium</td>\n",
       "      <td>E</td>\n",
       "      <td>SI1</td>\n",
       "      <td>59.8</td>\n",
       "      <td>61.0</td>\n",
       "      <td>326</td>\n",
       "      <td>3.89</td>\n",
       "      <td>3.84</td>\n",
       "      <td>2.31</td>\n",
       "    </tr>\n",
       "    <tr>\n",
       "      <th>2</th>\n",
       "      <td>3</td>\n",
       "      <td>0.23</td>\n",
       "      <td>Good</td>\n",
       "      <td>E</td>\n",
       "      <td>VS1</td>\n",
       "      <td>56.9</td>\n",
       "      <td>65.0</td>\n",
       "      <td>327</td>\n",
       "      <td>4.05</td>\n",
       "      <td>4.07</td>\n",
       "      <td>2.31</td>\n",
       "    </tr>\n",
       "    <tr>\n",
       "      <th>3</th>\n",
       "      <td>4</td>\n",
       "      <td>0.29</td>\n",
       "      <td>Premium</td>\n",
       "      <td>I</td>\n",
       "      <td>VS2</td>\n",
       "      <td>62.4</td>\n",
       "      <td>58.0</td>\n",
       "      <td>334</td>\n",
       "      <td>4.20</td>\n",
       "      <td>4.23</td>\n",
       "      <td>2.63</td>\n",
       "    </tr>\n",
       "    <tr>\n",
       "      <th>4</th>\n",
       "      <td>5</td>\n",
       "      <td>0.31</td>\n",
       "      <td>Good</td>\n",
       "      <td>J</td>\n",
       "      <td>SI2</td>\n",
       "      <td>63.3</td>\n",
       "      <td>58.0</td>\n",
       "      <td>335</td>\n",
       "      <td>4.34</td>\n",
       "      <td>4.35</td>\n",
       "      <td>2.75</td>\n",
       "    </tr>\n",
       "  </tbody>\n",
       "</table>\n",
       "</div>"
      ],
      "text/plain": [
       "   Unnamed: 0  carat      cut color clarity  depth  table  price     x     y  \\\n",
       "0           1   0.23    Ideal     E     SI2   61.5   55.0    326  3.95  3.98   \n",
       "1           2   0.21  Premium     E     SI1   59.8   61.0    326  3.89  3.84   \n",
       "2           3   0.23     Good     E     VS1   56.9   65.0    327  4.05  4.07   \n",
       "3           4   0.29  Premium     I     VS2   62.4   58.0    334  4.20  4.23   \n",
       "4           5   0.31     Good     J     SI2   63.3   58.0    335  4.34  4.35   \n",
       "\n",
       "      z  \n",
       "0  2.43  \n",
       "1  2.31  \n",
       "2  2.31  \n",
       "3  2.63  \n",
       "4  2.75  "
      ]
     },
     "execution_count": 163,
     "metadata": {},
     "output_type": "execute_result"
    }
   ],
   "source": [
    "# csv\n",
    "diamonds_df = pd.read_csv('/Users/martiheit/data/diamonds.csv')\n",
    "diamonds_df.head()"
   ]
  },
  {
   "cell_type": "markdown",
   "id": "ad660fcf",
   "metadata": {},
   "source": [
    "# Exploration"
   ]
  },
  {
   "cell_type": "code",
   "execution_count": 162,
   "id": "a384fd2b",
   "metadata": {},
   "outputs": [
    {
     "data": {
      "text/html": [
       "<div>\n",
       "<style scoped>\n",
       "    .dataframe tbody tr th:only-of-type {\n",
       "        vertical-align: middle;\n",
       "    }\n",
       "\n",
       "    .dataframe tbody tr th {\n",
       "        vertical-align: top;\n",
       "    }\n",
       "\n",
       "    .dataframe thead th {\n",
       "        text-align: right;\n",
       "    }\n",
       "</style>\n",
       "<table border=\"1\" class=\"dataframe\">\n",
       "  <thead>\n",
       "    <tr style=\"text-align: right;\">\n",
       "      <th></th>\n",
       "      <th>id</th>\n",
       "      <th>name</th>\n",
       "      <th>age</th>\n",
       "      <th>previous_job</th>\n",
       "      <th>birthday</th>\n",
       "      <th>acct_balance</th>\n",
       "    </tr>\n",
       "  </thead>\n",
       "  <tbody>\n",
       "    <tr>\n",
       "      <th>0</th>\n",
       "      <td>1</td>\n",
       "      <td>Marti</td>\n",
       "      <td>21</td>\n",
       "      <td>NaN</td>\n",
       "      <td>05-12-2000</td>\n",
       "      <td>0</td>\n",
       "    </tr>\n",
       "    <tr>\n",
       "      <th>1</th>\n",
       "      <td>2</td>\n",
       "      <td>Joleena</td>\n",
       "      <td>22</td>\n",
       "      <td>Software Engineer</td>\n",
       "      <td>05-12-1999</td>\n",
       "      <td>120000</td>\n",
       "    </tr>\n",
       "    <tr>\n",
       "      <th>2</th>\n",
       "      <td>3</td>\n",
       "      <td>Nestor</td>\n",
       "      <td>23</td>\n",
       "      <td>Math teacher</td>\n",
       "      <td>03-22-1998</td>\n",
       "      <td>40000</td>\n",
       "    </tr>\n",
       "    <tr>\n",
       "      <th>3</th>\n",
       "      <td>4</td>\n",
       "      <td>Faye</td>\n",
       "      <td>24</td>\n",
       "      <td>Software Engineer</td>\n",
       "      <td>01-01-1997</td>\n",
       "      <td>140000</td>\n",
       "    </tr>\n",
       "  </tbody>\n",
       "</table>\n",
       "</div>"
      ],
      "text/plain": [
       "   id     name  age       previous_job    birthday acct_balance\n",
       "0   1    Marti   21                NaN  05-12-2000            0\n",
       "1   2  Joleena   22  Software Engineer  05-12-1999       120000\n",
       "2   3   Nestor   23       Math teacher  03-22-1998        40000\n",
       "3   4     Faye   24  Software Engineer  01-01-1997       140000"
      ]
     },
     "execution_count": 162,
     "metadata": {},
     "output_type": "execute_result"
    }
   ],
   "source": [
    "student_info = {\n",
    "    'id': [1, 2, 3, 4],\n",
    "    'name': ['Marti', 'Joleena', 'Nestor', 'Faye'],\n",
    "    'age': [21, 22, 23, 24],\n",
    "    'previous_job': [np.nan, 'Engineer', 'Teacher', 'Engineer'],\n",
    "    'birthday': ['05-12-2000', '05-12-1999', '03-22-1998', '01-01-1997'],\n",
    "    'acct_balance': ['0', '120000', '40000', '140000']\n",
    "}\n",
    "df_student = pd.DataFrame.from_dict(data)\n",
    "df_student.head()"
   ]
  },
  {
   "cell_type": "code",
   "execution_count": 146,
   "id": "32092471",
   "metadata": {},
   "outputs": [
    {
     "data": {
      "text/plain": [
       "(4, 6)"
      ]
     },
     "execution_count": 146,
     "metadata": {},
     "output_type": "execute_result"
    }
   ],
   "source": [
    "df_student.shape"
   ]
  },
  {
   "cell_type": "code",
   "execution_count": 147,
   "id": "17945fe3",
   "metadata": {},
   "outputs": [
    {
     "data": {
      "text/plain": [
       "Index(['id', 'name', 'age', 'previous_job', 'birthday', 'acct_balance'], dtype='object')"
      ]
     },
     "execution_count": 147,
     "metadata": {},
     "output_type": "execute_result"
    }
   ],
   "source": [
    "df_student.columns"
   ]
  },
  {
   "cell_type": "code",
   "execution_count": 148,
   "id": "bf818af6",
   "metadata": {},
   "outputs": [
    {
     "name": "stdout",
     "output_type": "stream",
     "text": [
      "<class 'pandas.core.frame.DataFrame'>\n",
      "RangeIndex: 4 entries, 0 to 3\n",
      "Data columns (total 6 columns):\n",
      " #   Column        Non-Null Count  Dtype \n",
      "---  ------        --------------  ----- \n",
      " 0   id            4 non-null      int64 \n",
      " 1   name          4 non-null      object\n",
      " 2   age           4 non-null      int64 \n",
      " 3   previous_job  3 non-null      object\n",
      " 4   birthday      4 non-null      object\n",
      " 5   acct_balance  4 non-null      object\n",
      "dtypes: int64(2), object(4)\n",
      "memory usage: 320.0+ bytes\n"
     ]
    }
   ],
   "source": [
    "df_student.info()"
   ]
  },
  {
   "cell_type": "code",
   "execution_count": 149,
   "id": "ae63f50d",
   "metadata": {},
   "outputs": [
    {
     "data": {
      "text/html": [
       "<div>\n",
       "<style scoped>\n",
       "    .dataframe tbody tr th:only-of-type {\n",
       "        vertical-align: middle;\n",
       "    }\n",
       "\n",
       "    .dataframe tbody tr th {\n",
       "        vertical-align: top;\n",
       "    }\n",
       "\n",
       "    .dataframe thead th {\n",
       "        text-align: right;\n",
       "    }\n",
       "</style>\n",
       "<table border=\"1\" class=\"dataframe\">\n",
       "  <thead>\n",
       "    <tr style=\"text-align: right;\">\n",
       "      <th></th>\n",
       "      <th>id</th>\n",
       "      <th>name</th>\n",
       "      <th>age</th>\n",
       "      <th>previous_job</th>\n",
       "      <th>birthday</th>\n",
       "      <th>acct_balance</th>\n",
       "    </tr>\n",
       "  </thead>\n",
       "  <tbody>\n",
       "    <tr>\n",
       "      <th>0</th>\n",
       "      <td>False</td>\n",
       "      <td>False</td>\n",
       "      <td>False</td>\n",
       "      <td>True</td>\n",
       "      <td>False</td>\n",
       "      <td>False</td>\n",
       "    </tr>\n",
       "    <tr>\n",
       "      <th>1</th>\n",
       "      <td>False</td>\n",
       "      <td>False</td>\n",
       "      <td>False</td>\n",
       "      <td>False</td>\n",
       "      <td>False</td>\n",
       "      <td>False</td>\n",
       "    </tr>\n",
       "    <tr>\n",
       "      <th>2</th>\n",
       "      <td>False</td>\n",
       "      <td>False</td>\n",
       "      <td>False</td>\n",
       "      <td>False</td>\n",
       "      <td>False</td>\n",
       "      <td>False</td>\n",
       "    </tr>\n",
       "    <tr>\n",
       "      <th>3</th>\n",
       "      <td>False</td>\n",
       "      <td>False</td>\n",
       "      <td>False</td>\n",
       "      <td>False</td>\n",
       "      <td>False</td>\n",
       "      <td>False</td>\n",
       "    </tr>\n",
       "  </tbody>\n",
       "</table>\n",
       "</div>"
      ],
      "text/plain": [
       "      id   name    age  previous_job  birthday  acct_balance\n",
       "0  False  False  False          True     False         False\n",
       "1  False  False  False         False     False         False\n",
       "2  False  False  False         False     False         False\n",
       "3  False  False  False         False     False         False"
      ]
     },
     "execution_count": 149,
     "metadata": {},
     "output_type": "execute_result"
    }
   ],
   "source": [
    "df_student.isnull()"
   ]
  },
  {
   "cell_type": "code",
   "execution_count": 150,
   "id": "90ccab4e",
   "metadata": {},
   "outputs": [
    {
     "data": {
      "text/html": [
       "<div>\n",
       "<style scoped>\n",
       "    .dataframe tbody tr th:only-of-type {\n",
       "        vertical-align: middle;\n",
       "    }\n",
       "\n",
       "    .dataframe tbody tr th {\n",
       "        vertical-align: top;\n",
       "    }\n",
       "\n",
       "    .dataframe thead th {\n",
       "        text-align: right;\n",
       "    }\n",
       "</style>\n",
       "<table border=\"1\" class=\"dataframe\">\n",
       "  <thead>\n",
       "    <tr style=\"text-align: right;\">\n",
       "      <th></th>\n",
       "      <th>id</th>\n",
       "      <th>age</th>\n",
       "    </tr>\n",
       "  </thead>\n",
       "  <tbody>\n",
       "    <tr>\n",
       "      <th>count</th>\n",
       "      <td>4.000000</td>\n",
       "      <td>4.000000</td>\n",
       "    </tr>\n",
       "    <tr>\n",
       "      <th>mean</th>\n",
       "      <td>2.500000</td>\n",
       "      <td>22.500000</td>\n",
       "    </tr>\n",
       "    <tr>\n",
       "      <th>std</th>\n",
       "      <td>1.290994</td>\n",
       "      <td>1.290994</td>\n",
       "    </tr>\n",
       "    <tr>\n",
       "      <th>min</th>\n",
       "      <td>1.000000</td>\n",
       "      <td>21.000000</td>\n",
       "    </tr>\n",
       "    <tr>\n",
       "      <th>25%</th>\n",
       "      <td>1.750000</td>\n",
       "      <td>21.750000</td>\n",
       "    </tr>\n",
       "    <tr>\n",
       "      <th>50%</th>\n",
       "      <td>2.500000</td>\n",
       "      <td>22.500000</td>\n",
       "    </tr>\n",
       "    <tr>\n",
       "      <th>75%</th>\n",
       "      <td>3.250000</td>\n",
       "      <td>23.250000</td>\n",
       "    </tr>\n",
       "    <tr>\n",
       "      <th>max</th>\n",
       "      <td>4.000000</td>\n",
       "      <td>24.000000</td>\n",
       "    </tr>\n",
       "  </tbody>\n",
       "</table>\n",
       "</div>"
      ],
      "text/plain": [
       "             id        age\n",
       "count  4.000000   4.000000\n",
       "mean   2.500000  22.500000\n",
       "std    1.290994   1.290994\n",
       "min    1.000000  21.000000\n",
       "25%    1.750000  21.750000\n",
       "50%    2.500000  22.500000\n",
       "75%    3.250000  23.250000\n",
       "max    4.000000  24.000000"
      ]
     },
     "execution_count": 150,
     "metadata": {},
     "output_type": "execute_result"
    }
   ],
   "source": [
    "df_student.describe()"
   ]
  },
  {
   "cell_type": "code",
   "execution_count": 151,
   "id": "641af3fc",
   "metadata": {},
   "outputs": [
    {
     "data": {
      "text/plain": [
       "Software Engineer    2\n",
       "Math teacher         1\n",
       "Name: previous_job, dtype: int64"
      ]
     },
     "execution_count": 151,
     "metadata": {},
     "output_type": "execute_result"
    }
   ],
   "source": [
    "df_student['previous_job'].value_counts()"
   ]
  },
  {
   "cell_type": "markdown",
   "id": "970e5853",
   "metadata": {},
   "source": [
    "# Preprocessing"
   ]
  },
  {
   "cell_type": "markdown",
   "id": "cfe11456",
   "metadata": {},
   "source": [
    "## Converting Data Types"
   ]
  },
  {
   "cell_type": "code",
   "execution_count": 152,
   "id": "e3a54393",
   "metadata": {},
   "outputs": [
    {
     "data": {
      "text/plain": [
       "id               int64\n",
       "name            object\n",
       "age              int64\n",
       "previous_job    object\n",
       "birthday        object\n",
       "acct_balance    object\n",
       "dtype: object"
      ]
     },
     "execution_count": 152,
     "metadata": {},
     "output_type": "execute_result"
    }
   ],
   "source": [
    "df_student.dtypes"
   ]
  },
  {
   "cell_type": "code",
   "execution_count": 153,
   "id": "7d590d61",
   "metadata": {},
   "outputs": [],
   "source": [
    "df_student['birthday'] = pd.to_datetime(df_student['birthday'])\n",
    "df_student['acct_balance'] = pd.to_numeric(df_student['acct_balance'])"
   ]
  },
  {
   "cell_type": "code",
   "execution_count": 154,
   "id": "b865ce27",
   "metadata": {},
   "outputs": [
    {
     "data": {
      "text/plain": [
       "id                       int64\n",
       "name                    object\n",
       "age                      int64\n",
       "previous_job            object\n",
       "birthday        datetime64[ns]\n",
       "acct_balance             int64\n",
       "dtype: object"
      ]
     },
     "execution_count": 154,
     "metadata": {},
     "output_type": "execute_result"
    }
   ],
   "source": [
    "df_student.dtypes"
   ]
  },
  {
   "cell_type": "code",
   "execution_count": 155,
   "id": "09fa201c",
   "metadata": {},
   "outputs": [],
   "source": [
    "df_student['previous_job'] = df_student['previous_job'].fillna('Student')"
   ]
  },
  {
   "cell_type": "code",
   "execution_count": 156,
   "id": "fb034b6c",
   "metadata": {
    "scrolled": false
   },
   "outputs": [
    {
     "data": {
      "text/html": [
       "<div>\n",
       "<style scoped>\n",
       "    .dataframe tbody tr th:only-of-type {\n",
       "        vertical-align: middle;\n",
       "    }\n",
       "\n",
       "    .dataframe tbody tr th {\n",
       "        vertical-align: top;\n",
       "    }\n",
       "\n",
       "    .dataframe thead th {\n",
       "        text-align: right;\n",
       "    }\n",
       "</style>\n",
       "<table border=\"1\" class=\"dataframe\">\n",
       "  <thead>\n",
       "    <tr style=\"text-align: right;\">\n",
       "      <th></th>\n",
       "      <th>id</th>\n",
       "      <th>name</th>\n",
       "      <th>age</th>\n",
       "      <th>previous_job</th>\n",
       "      <th>birthday</th>\n",
       "      <th>acct_balance</th>\n",
       "    </tr>\n",
       "  </thead>\n",
       "  <tbody>\n",
       "    <tr>\n",
       "      <th>0</th>\n",
       "      <td>1</td>\n",
       "      <td>Marti</td>\n",
       "      <td>21</td>\n",
       "      <td>Student</td>\n",
       "      <td>2000-05-12</td>\n",
       "      <td>0</td>\n",
       "    </tr>\n",
       "    <tr>\n",
       "      <th>1</th>\n",
       "      <td>2</td>\n",
       "      <td>Joleena</td>\n",
       "      <td>22</td>\n",
       "      <td>Software Engineer</td>\n",
       "      <td>1999-05-12</td>\n",
       "      <td>120000</td>\n",
       "    </tr>\n",
       "    <tr>\n",
       "      <th>2</th>\n",
       "      <td>3</td>\n",
       "      <td>Nestor</td>\n",
       "      <td>23</td>\n",
       "      <td>Math teacher</td>\n",
       "      <td>1998-03-22</td>\n",
       "      <td>40000</td>\n",
       "    </tr>\n",
       "    <tr>\n",
       "      <th>3</th>\n",
       "      <td>4</td>\n",
       "      <td>Faye</td>\n",
       "      <td>24</td>\n",
       "      <td>Software Engineer</td>\n",
       "      <td>1997-01-01</td>\n",
       "      <td>140000</td>\n",
       "    </tr>\n",
       "  </tbody>\n",
       "</table>\n",
       "</div>"
      ],
      "text/plain": [
       "   id     name  age       previous_job   birthday  acct_balance\n",
       "0   1    Marti   21            Student 2000-05-12             0\n",
       "1   2  Joleena   22  Software Engineer 1999-05-12        120000\n",
       "2   3   Nestor   23       Math teacher 1998-03-22         40000\n",
       "3   4     Faye   24  Software Engineer 1997-01-01        140000"
      ]
     },
     "execution_count": 156,
     "metadata": {},
     "output_type": "execute_result"
    }
   ],
   "source": [
    "df_student"
   ]
  },
  {
   "cell_type": "markdown",
   "id": "e82eeaae",
   "metadata": {},
   "source": [
    "## Appending Data"
   ]
  },
  {
   "cell_type": "code",
   "execution_count": 157,
   "id": "5d93e33f",
   "metadata": {},
   "outputs": [
    {
     "data": {
      "text/html": [
       "<div>\n",
       "<style scoped>\n",
       "    .dataframe tbody tr th:only-of-type {\n",
       "        vertical-align: middle;\n",
       "    }\n",
       "\n",
       "    .dataframe tbody tr th {\n",
       "        vertical-align: top;\n",
       "    }\n",
       "\n",
       "    .dataframe thead th {\n",
       "        text-align: right;\n",
       "    }\n",
       "</style>\n",
       "<table border=\"1\" class=\"dataframe\">\n",
       "  <thead>\n",
       "    <tr style=\"text-align: right;\">\n",
       "      <th></th>\n",
       "      <th>id</th>\n",
       "      <th>name</th>\n",
       "      <th>age</th>\n",
       "      <th>previous_job</th>\n",
       "      <th>birthday</th>\n",
       "      <th>acct_balance</th>\n",
       "      <th>gender</th>\n",
       "    </tr>\n",
       "  </thead>\n",
       "  <tbody>\n",
       "    <tr>\n",
       "      <th>0</th>\n",
       "      <td>1</td>\n",
       "      <td>Marti</td>\n",
       "      <td>21</td>\n",
       "      <td>Student</td>\n",
       "      <td>2000-05-12</td>\n",
       "      <td>0</td>\n",
       "      <td>F</td>\n",
       "    </tr>\n",
       "    <tr>\n",
       "      <th>1</th>\n",
       "      <td>2</td>\n",
       "      <td>Joleena</td>\n",
       "      <td>22</td>\n",
       "      <td>Software Engineer</td>\n",
       "      <td>1999-05-12</td>\n",
       "      <td>120000</td>\n",
       "      <td>F</td>\n",
       "    </tr>\n",
       "    <tr>\n",
       "      <th>2</th>\n",
       "      <td>3</td>\n",
       "      <td>Nestor</td>\n",
       "      <td>23</td>\n",
       "      <td>Math teacher</td>\n",
       "      <td>1998-03-22</td>\n",
       "      <td>40000</td>\n",
       "      <td>M</td>\n",
       "    </tr>\n",
       "    <tr>\n",
       "      <th>3</th>\n",
       "      <td>4</td>\n",
       "      <td>Faye</td>\n",
       "      <td>24</td>\n",
       "      <td>Software Engineer</td>\n",
       "      <td>1997-01-01</td>\n",
       "      <td>140000</td>\n",
       "      <td>F</td>\n",
       "    </tr>\n",
       "  </tbody>\n",
       "</table>\n",
       "</div>"
      ],
      "text/plain": [
       "   id     name  age       previous_job   birthday  acct_balance gender\n",
       "0   1    Marti   21            Student 2000-05-12             0      F\n",
       "1   2  Joleena   22  Software Engineer 1999-05-12        120000      F\n",
       "2   3   Nestor   23       Math teacher 1998-03-22         40000      M\n",
       "3   4     Faye   24  Software Engineer 1997-01-01        140000      F"
      ]
     },
     "execution_count": 157,
     "metadata": {},
     "output_type": "execute_result"
    }
   ],
   "source": [
    "df_student['gender'] = ['F', 'F', 'M', 'F']\n",
    "df_student"
   ]
  },
  {
   "cell_type": "markdown",
   "id": "c7bc7bf8",
   "metadata": {},
   "source": [
    "## Removing/Reindex Data"
   ]
  },
  {
   "cell_type": "code",
   "execution_count": 164,
   "id": "e5621b82",
   "metadata": {},
   "outputs": [],
   "source": [
    "df_student = df_student.drop('id', axis=1)\n",
    "df_age_index = df_student.set_index('age')"
   ]
  },
  {
   "cell_type": "code",
   "execution_count": 165,
   "id": "e9af7ada",
   "metadata": {},
   "outputs": [
    {
     "data": {
      "text/html": [
       "<div>\n",
       "<style scoped>\n",
       "    .dataframe tbody tr th:only-of-type {\n",
       "        vertical-align: middle;\n",
       "    }\n",
       "\n",
       "    .dataframe tbody tr th {\n",
       "        vertical-align: top;\n",
       "    }\n",
       "\n",
       "    .dataframe thead th {\n",
       "        text-align: right;\n",
       "    }\n",
       "</style>\n",
       "<table border=\"1\" class=\"dataframe\">\n",
       "  <thead>\n",
       "    <tr style=\"text-align: right;\">\n",
       "      <th></th>\n",
       "      <th>name</th>\n",
       "      <th>previous_job</th>\n",
       "      <th>birthday</th>\n",
       "      <th>acct_balance</th>\n",
       "    </tr>\n",
       "    <tr>\n",
       "      <th>age</th>\n",
       "      <th></th>\n",
       "      <th></th>\n",
       "      <th></th>\n",
       "      <th></th>\n",
       "    </tr>\n",
       "  </thead>\n",
       "  <tbody>\n",
       "    <tr>\n",
       "      <th>21</th>\n",
       "      <td>Marti</td>\n",
       "      <td>NaN</td>\n",
       "      <td>05-12-2000</td>\n",
       "      <td>0</td>\n",
       "    </tr>\n",
       "    <tr>\n",
       "      <th>22</th>\n",
       "      <td>Joleena</td>\n",
       "      <td>Software Engineer</td>\n",
       "      <td>05-12-1999</td>\n",
       "      <td>120000</td>\n",
       "    </tr>\n",
       "    <tr>\n",
       "      <th>23</th>\n",
       "      <td>Nestor</td>\n",
       "      <td>Math teacher</td>\n",
       "      <td>03-22-1998</td>\n",
       "      <td>40000</td>\n",
       "    </tr>\n",
       "    <tr>\n",
       "      <th>24</th>\n",
       "      <td>Faye</td>\n",
       "      <td>Software Engineer</td>\n",
       "      <td>01-01-1997</td>\n",
       "      <td>140000</td>\n",
       "    </tr>\n",
       "  </tbody>\n",
       "</table>\n",
       "</div>"
      ],
      "text/plain": [
       "        name       previous_job    birthday acct_balance\n",
       "age                                                     \n",
       "21     Marti                NaN  05-12-2000            0\n",
       "22   Joleena  Software Engineer  05-12-1999       120000\n",
       "23    Nestor       Math teacher  03-22-1998        40000\n",
       "24      Faye  Software Engineer  01-01-1997       140000"
      ]
     },
     "execution_count": 165,
     "metadata": {},
     "output_type": "execute_result"
    }
   ],
   "source": [
    "df_age_index.head()"
   ]
  },
  {
   "cell_type": "markdown",
   "id": "b0382d72",
   "metadata": {},
   "source": [
    "# Visualize"
   ]
  },
  {
   "cell_type": "code",
   "execution_count": 169,
   "id": "cbbf1b59",
   "metadata": {},
   "outputs": [
    {
     "data": {
      "image/png": "[encoded data removed]",
      "text/plain": [
       "<Figure size 432x432 with 1 Axes>"
      ]
     },
     "metadata": {
      "image/png": {
       "height": 386,
       "width": 408
      },
      "needs_background": "light"
     },
     "output_type": "display_data"
    }
   ],
   "source": [
    "fig, ax = plt.subplots(figsize=(6, 6))\n",
    "ax.scatter(df_student['age'], df_student['acct_balance'])\n",
    "ax.spines['right'].set_visible(False)\n",
    "ax.spines['top'].set_visible(False)\n",
    "ax.set_xlabel('Age')\n",
    "ax.set_ylabel('Account Balance')\n",
    "plt.title('Age vs Account Balance')\n",
    "plt.show()"
   ]
  },
  {
   "cell_type": "code",
   "execution_count": 168,
   "id": "5c08057e",
   "metadata": {},
   "outputs": [
    {
     "data": {
      "image/png": "[encoded data removed]",
      "text/plain": [
       "<Figure size 432x432 with 1 Axes>"
      ]
     },
     "metadata": {
      "image/png": {
       "height": 386,
       "width": 392
      },
      "needs_background": "light"
     },
     "output_type": "display_data"
    }
   ],
   "source": [
    "x = df_student['previous_job'].value_counts().index\n",
    "y = df_student['previous_job'].value_counts().values\n",
    "\n",
    "fig, ax = plt.subplots(figsize=(6, 6))\n",
    "ax.bar(x, y)\n",
    "plt.title('Previous Job Frequency')\n",
    "ax.spines['right'].set_visible(False)\n",
    "ax.spines['top'].set_visible(False)\n",
    "ax.set_xlabel('Previous Job')\n",
    "ax.set_ylabel('Count')\n",
    "plt.show()\n"
   ]
  }
 ],
 "metadata": {
  "kernelspec": {
   "display_name": "Python 3",
   "language": "python",
   "name": "python3"
  },
  "language_info": {
   "codemirror_mode": {
    "name": "ipython",
    "version": 3
   },
   "file_extension": ".py",
   "mimetype": "text/x-python",
   "name": "python",
   "nbconvert_exporter": "python",
   "pygments_lexer": "ipython3",
   "version": "3.8.5"
  }
 },
 "nbformat": 4,
 "nbformat_minor": 5
}
